{
 "cells": [
  {
   "cell_type": "markdown",
   "metadata": {},
   "source": [
    "# Analysis: Stock Screener (from NASDAQ)\n",
    "\n",
    "- Load data.\n",
    "- Select columns.\n",
    "- Format columns.\n",
    "- Text columns processing.\n",
    "- Analysis.\n",
    "- Save into processed data folder.\n",
    "\n",
    "### Reference:\n",
    "\n",
    "- [nasdaq.com: Stock Screener](https://www.nasdaq.com/market-activity/stocks/screener)"
   ]
  },
  {
   "cell_type": "code",
   "execution_count": 1,
   "metadata": {},
   "outputs": [],
   "source": [
    "import os\n",
    "import sys\n",
    "sys.path.append('../../')\n",
    "import pandas as pd\n",
    "import config\n",
    "from cleantext import clean"
   ]
  },
  {
   "cell_type": "markdown",
   "metadata": {},
   "source": [
    "### arguments"
   ]
  },
  {
   "cell_type": "code",
   "execution_count": 2,
   "metadata": {},
   "outputs": [],
   "source": [
    "l_columns = ['Symbol', 'Name', 'Market Cap', 'Country', 'IPO Year', 'Sector', 'Industry']\n",
    "d_types_columns = {'Symbol':str, 'Name':str, 'Market Cap':float, 'Country':str, 'IPO Year':float, 'Sector':str, 'Industry':str}\n",
    "d_rename_columns = {'Symbol':\"symbol\", 'Name':\"name\", 'Market Cap':\"market_cap\", 'Country':\"country\", \n",
    "                    'IPO Year':\"year\", 'Sector':\"sector\", 'Industry':\"industry\"}"
   ]
  },
  {
   "cell_type": "markdown",
   "metadata": {},
   "source": [
    "# load data"
   ]
  },
  {
   "cell_type": "code",
   "execution_count": 3,
   "metadata": {},
   "outputs": [
    {
     "data": {
      "text/plain": [
       "(7503, 7)"
      ]
     },
     "execution_count": 3,
     "metadata": {},
     "output_type": "execute_result"
    }
   ],
   "source": [
    "# create path\n",
    "path_input = os.path.join(config.folder_project, config.folder_external, config.file_stock_screener)\n",
    "# load data\n",
    "df = pd.read_csv(path_input, usecols = l_columns, dtype = d_types_columns)\n",
    "# rename columns \n",
    "df.rename(columns = d_rename_columns, inplace = True)\n",
    "# display\n",
    "df.shape"
   ]
  },
  {
   "cell_type": "markdown",
   "metadata": {},
   "source": [
    "# data processing"
   ]
  },
  {
   "cell_type": "code",
   "execution_count": 4,
   "metadata": {},
   "outputs": [],
   "source": [
    "# clean company name column\n",
    "df[\"name\"] = df[\"name\"].apply(lambda x: clean(x, no_punct = True)) \n",
    "# clean country name\n",
    "df[\"country\"] = df[\"country\"].apply(lambda x: clean(x, no_punct = True) if type(x) == str else x) \n",
    "# clean sector\n",
    "df[\"sector\"] = df[\"sector\"].apply(lambda x: clean(x, no_punct = True) if type(x) == str else x) \n",
    "# clean country name\n",
    "df[\"industry\"] = df[\"industry\"].apply(lambda x: clean(x, no_punct = True) if type(x) == str else x)\n"
   ]
  },
  {
   "cell_type": "markdown",
   "metadata": {},
   "source": [
    "# analyze categorical variables"
   ]
  },
  {
   "cell_type": "code",
   "execution_count": 5,
   "metadata": {},
   "outputs": [
    {
     "data": {
      "text/plain": [
       "array(['united states', 'china', 'canada', 'united kingdom', 'brazil',\n",
       "       'hong kong', 'bermuda', 'switzerland', 'ireland', 'netherlands',\n",
       "       'singapore', 'germany', 'gibraltar', 'luxembourg', 'australia',\n",
       "       'chile', 'israel', 'sweden', 'mexico', 'united arab emirates',\n",
       "       'taiwan', 'malaysia', 'argentina', 'denmark', 'south africa',\n",
       "       'france', 'japan', 'peru', 'spain', 'cayman islands', 'panama',\n",
       "       'belgium', 'new zealand', 'colombia', 'greece', 'cyprus',\n",
       "       'south korea', 'jersey', 'uruguay', 'guernsey', 'macau', 'italy',\n",
       "       'norway', 'costa rica', 'puerto rico', 'kazakhstan', 'monaco',\n",
       "       'malta', 'india', 'turkey', 'jordan', 'finland', 'isle of man',\n",
       "       'curacao', 'bahamas', 'philippines', 'indonesia', 'thailand'],\n",
       "      dtype=object)"
      ]
     },
     "execution_count": 5,
     "metadata": {},
     "output_type": "execute_result"
    }
   ],
   "source": [
    "# country\n",
    "df[\"country\"].dropna().unique()"
   ]
  },
  {
   "cell_type": "code",
   "execution_count": 6,
   "metadata": {},
   "outputs": [
    {
     "data": {
      "text/plain": [
       "array(['industrials', 'consumer discretionary', 'finance', 'health care',\n",
       "       'real estate', 'miscellaneous', 'technology', 'consumer staples',\n",
       "       'energy', 'utilities', 'basic materials', 'telecommunications'],\n",
       "      dtype=object)"
      ]
     },
     "execution_count": 6,
     "metadata": {},
     "output_type": "execute_result"
    }
   ],
   "source": [
    "# country\n",
    "df[\"sector\"].dropna().unique()"
   ]
  },
  {
   "cell_type": "code",
   "execution_count": 7,
   "metadata": {},
   "outputs": [
    {
     "data": {
      "text/plain": [
       "industry\n",
       "biotechnology pharmaceutical preparations        650\n",
       "blank checks                                     559\n",
       "major banks                                      327\n",
       "computer software prepackaged software           242\n",
       "real estate investment trusts                    237\n",
       "                                                ... \n",
       "diversified electronic products                    1\n",
       "assisted living services                           1\n",
       "tobacco                                            1\n",
       "general bldg contractors nonresidential bldgs      1\n",
       "toolshardware                                      1\n",
       "Name: count, Length: 150, dtype: int64"
      ]
     },
     "execution_count": 7,
     "metadata": {},
     "output_type": "execute_result"
    }
   ],
   "source": [
    "# country\n",
    "df[\"industry\"].dropna().value_counts()"
   ]
  },
  {
   "cell_type": "markdown",
   "metadata": {},
   "source": [
    "# analyze availability"
   ]
  },
  {
   "cell_type": "code",
   "execution_count": 22,
   "metadata": {},
   "outputs": [
    {
     "data": {
      "text/html": [
       "<div>\n",
       "<style scoped>\n",
       "    .dataframe tbody tr th:only-of-type {\n",
       "        vertical-align: middle;\n",
       "    }\n",
       "\n",
       "    .dataframe tbody tr th {\n",
       "        vertical-align: top;\n",
       "    }\n",
       "\n",
       "    .dataframe thead th {\n",
       "        text-align: right;\n",
       "    }\n",
       "</style>\n",
       "<table border=\"1\" class=\"dataframe\">\n",
       "  <thead>\n",
       "    <tr style=\"text-align: right;\">\n",
       "      <th></th>\n",
       "      <th>symbol</th>\n",
       "      <th>name</th>\n",
       "      <th>market_cap</th>\n",
       "      <th>country</th>\n",
       "      <th>year</th>\n",
       "      <th>sector</th>\n",
       "      <th>industry</th>\n",
       "    </tr>\n",
       "  </thead>\n",
       "  <tbody>\n",
       "    <tr>\n",
       "      <th>1133</th>\n",
       "      <td>BSAC</td>\n",
       "      <td>banco santander chile ads</td>\n",
       "      <td>9.054836e+09</td>\n",
       "      <td>chile</td>\n",
       "      <td>NaN</td>\n",
       "      <td>finance</td>\n",
       "      <td>commercial banks</td>\n",
       "    </tr>\n",
       "    <tr>\n",
       "      <th>1135</th>\n",
       "      <td>BSBR</td>\n",
       "      <td>banco santander brasil sa american depositary ...</td>\n",
       "      <td>4.060169e+10</td>\n",
       "      <td>brazil</td>\n",
       "      <td>2009.0</td>\n",
       "      <td>finance</td>\n",
       "      <td>commercial banks</td>\n",
       "    </tr>\n",
       "    <tr>\n",
       "      <th>5961</th>\n",
       "      <td>SAN</td>\n",
       "      <td>banco santander sa sponsored adr spain</td>\n",
       "      <td>6.381873e+10</td>\n",
       "      <td>spain</td>\n",
       "      <td>NaN</td>\n",
       "      <td>finance</td>\n",
       "      <td>commercial banks</td>\n",
       "    </tr>\n",
       "  </tbody>\n",
       "</table>\n",
       "</div>"
      ],
      "text/plain": [
       "     symbol                                               name    market_cap  \\\n",
       "1133   BSAC                          banco santander chile ads  9.054836e+09   \n",
       "1135   BSBR  banco santander brasil sa american depositary ...  4.060169e+10   \n",
       "5961    SAN             banco santander sa sponsored adr spain  6.381873e+10   \n",
       "\n",
       "     country    year   sector          industry  \n",
       "1133   chile     NaN  finance  commercial banks  \n",
       "1135  brazil  2009.0  finance  commercial banks  \n",
       "5961   spain     NaN  finance  commercial banks  "
      ]
     },
     "execution_count": 22,
     "metadata": {},
     "output_type": "execute_result"
    }
   ],
   "source": [
    "df[df.name.str.contains(\"santander\")]"
   ]
  },
  {
   "cell_type": "markdown",
   "metadata": {},
   "source": [
    "## Conclusiones\n",
    "\n",
    "Viendo este ejemplo y otros, me temo que esta lista no vale tanto."
   ]
  },
  {
   "cell_type": "code",
   "execution_count": null,
   "metadata": {},
   "outputs": [],
   "source": []
  }
 ],
 "metadata": {
  "kernelspec": {
   "display_name": "finance",
   "language": "python",
   "name": "finance"
  },
  "language_info": {
   "codemirror_mode": {
    "name": "ipython",
    "version": 3
   },
   "file_extension": ".py",
   "mimetype": "text/x-python",
   "name": "python",
   "nbconvert_exporter": "python",
   "pygments_lexer": "ipython3",
   "version": "3.9.0"
  },
  "orig_nbformat": 4
 },
 "nbformat": 4,
 "nbformat_minor": 2
}
