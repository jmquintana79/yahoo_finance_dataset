{
 "cells": [
  {
   "cell_type": "markdown",
   "metadata": {},
   "source": [
    "# check library to get yahoo tickers symbols\n",
    "\n",
    "https://github.com/portfolioplus/pytickersymbols"
   ]
  },
  {
   "cell_type": "code",
   "execution_count": 2,
   "metadata": {},
   "outputs": [],
   "source": [
    "from pytickersymbols import PyTickerSymbols"
   ]
  },
  {
   "cell_type": "code",
   "execution_count": 3,
   "metadata": {},
   "outputs": [],
   "source": [
    "stock_data = PyTickerSymbols()\n",
    "countries = stock_data.get_all_countries()\n",
    "indices = stock_data.get_all_indices()\n",
    "industries = stock_data.get_all_industries()"
   ]
  },
  {
   "cell_type": "code",
   "execution_count": 8,
   "metadata": {},
   "outputs": [
    {
     "name": "stdout",
     "output_type": "stream",
     "text": [
      "['get_aex_frankfurt_yahoo_tickers', 'get_aex_london_yahoo_tickers', 'get_aex_moscow_yahoo_tickers', 'get_aex_nyc_yahoo_tickers', 'get_bel_20_frankfurt_yahoo_tickers', 'get_bel_20_london_yahoo_tickers', 'get_bel_20_moscow_yahoo_tickers', 'get_bel_20_nyc_yahoo_tickers', 'get_cac_40_frankfurt_yahoo_tickers', 'get_cac_40_london_yahoo_tickers', 'get_cac_40_moscow_yahoo_tickers', 'get_cac_40_nyc_yahoo_tickers', 'get_cac_mid_60_frankfurt_yahoo_tickers', 'get_cac_mid_60_london_yahoo_tickers', 'get_cac_mid_60_moscow_yahoo_tickers', 'get_cac_mid_60_nyc_yahoo_tickers', 'get_cdax_frankfurt_yahoo_tickers', 'get_cdax_london_yahoo_tickers', 'get_cdax_moscow_yahoo_tickers', 'get_cdax_nyc_yahoo_tickers', 'get_dax_frankfurt_yahoo_tickers', 'get_dax_london_yahoo_tickers', 'get_dax_moscow_yahoo_tickers', 'get_dax_nyc_yahoo_tickers', 'get_dow_jones_frankfurt_yahoo_tickers', 'get_dow_jones_london_yahoo_tickers', 'get_dow_jones_moscow_yahoo_tickers', 'get_dow_jones_nyc_yahoo_tickers', 'get_euro_stoxx_50_frankfurt_yahoo_tickers', 'get_euro_stoxx_50_london_yahoo_tickers', 'get_euro_stoxx_50_moscow_yahoo_tickers', 'get_euro_stoxx_50_nyc_yahoo_tickers', 'get_ftse_100_frankfurt_yahoo_tickers', 'get_ftse_100_london_yahoo_tickers', 'get_ftse_100_moscow_yahoo_tickers', 'get_ftse_100_nyc_yahoo_tickers', 'get_ibex_35_frankfurt_yahoo_tickers', 'get_ibex_35_london_yahoo_tickers', 'get_ibex_35_moscow_yahoo_tickers', 'get_ibex_35_nyc_yahoo_tickers', 'get_mdax_frankfurt_yahoo_tickers', 'get_mdax_london_yahoo_tickers', 'get_mdax_moscow_yahoo_tickers', 'get_mdax_nyc_yahoo_tickers', 'get_moex_frankfurt_yahoo_tickers', 'get_moex_london_yahoo_tickers', 'get_moex_moscow_yahoo_tickers', 'get_moex_nyc_yahoo_tickers', 'get_nasdaq_100_frankfurt_yahoo_tickers', 'get_nasdaq_100_london_yahoo_tickers', 'get_nasdaq_100_moscow_yahoo_tickers', 'get_nasdaq_100_nyc_yahoo_tickers', 'get_omx_helsinki_25_frankfurt_yahoo_tickers', 'get_omx_helsinki_25_london_yahoo_tickers', 'get_omx_helsinki_25_moscow_yahoo_tickers', 'get_omx_helsinki_25_nyc_yahoo_tickers', 'get_omx_stockholm_30_frankfurt_yahoo_tickers', 'get_omx_stockholm_30_london_yahoo_tickers', 'get_omx_stockholm_30_moscow_yahoo_tickers', 'get_omx_stockholm_30_nyc_yahoo_tickers', 'get_sdax_frankfurt_yahoo_tickers', 'get_sdax_london_yahoo_tickers', 'get_sdax_moscow_yahoo_tickers', 'get_sdax_nyc_yahoo_tickers', 'get_sp_100_frankfurt_yahoo_tickers', 'get_sp_100_london_yahoo_tickers', 'get_sp_100_moscow_yahoo_tickers', 'get_sp_100_nyc_yahoo_tickers', 'get_sp_500_frankfurt_yahoo_tickers', 'get_sp_500_london_yahoo_tickers', 'get_sp_500_moscow_yahoo_tickers', 'get_sp_500_nyc_yahoo_tickers', 'get_sp_600_frankfurt_yahoo_tickers', 'get_sp_600_london_yahoo_tickers', 'get_sp_600_moscow_yahoo_tickers', 'get_sp_600_nyc_yahoo_tickers', 'get_switzerland_20_frankfurt_yahoo_tickers', 'get_switzerland_20_london_yahoo_tickers', 'get_switzerland_20_moscow_yahoo_tickers', 'get_switzerland_20_nyc_yahoo_tickers', 'get_tecdax_frankfurt_yahoo_tickers', 'get_tecdax_london_yahoo_tickers', 'get_tecdax_moscow_yahoo_tickers', 'get_tecdax_nyc_yahoo_tickers']\n"
     ]
    }
   ],
   "source": [
    "# there are too many combination. Here is a complete list of all getters\n",
    "all_ticker_getter_names = list(filter(lambda x: (x.endswith('_yahoo_tickers')),dir(stock_data),))\n",
    "print(all_ticker_getter_names)"
   ]
  },
  {
   "cell_type": "code",
   "execution_count": 11,
   "metadata": {},
   "outputs": [],
   "source": [
    "with open('load_yahoo_symbols.py', 'w') as f:\n",
    "    f.write('from pytickersymbols import PyTickerSymbols')\n",
    "    f.write('\\n')\n",
    "    f.write('import pandas as pd')\n",
    "    f.write('\\n')\n",
    "    f.write('stock_data = PyTickerSymbols()')\n",
    "    f.write('\\n')\n",
    "    f.write('all_ticker_getter_names = list(filter(lambda x: (x.endswith(\"_yahoo_tickers\")),dir(stock_data),))')\n",
    "    f.write('\\n')\n",
    "    f.write('l_symbols = list()')\n",
    "    f.write('\\n')\n",
    "    for method in all_ticker_getter_names:\n",
    "        f.write(f'l_symbols += stock_data.{method}()')\n",
    "        f.write('\\n')\n",
    "    f.write('df = pd.DataFrame({\"symbols\":l_symbols})')\n",
    "    f.write('\\n')\n",
    "    f.write('df.to_csv(\"my_symbols.csv\", index = False)')\n",
    "    f.write('\\n')\n",
    "    f.write('print(df.shape)')\n",
    "    f.write('\\n')\n",
    "    f.write('print(\"done\")')\n",
    "\n"
   ]
  },
  {
   "cell_type": "code",
   "execution_count": null,
   "metadata": {},
   "outputs": [],
   "source": []
  },
  {
   "cell_type": "code",
   "execution_count": null,
   "metadata": {},
   "outputs": [],
   "source": []
  }
 ],
 "metadata": {
  "kernelspec": {
   "display_name": "finance",
   "language": "python",
   "name": "finance"
  },
  "language_info": {
   "codemirror_mode": {
    "name": "ipython",
    "version": 3
   },
   "file_extension": ".py",
   "mimetype": "text/x-python",
   "name": "python",
   "nbconvert_exporter": "python",
   "pygments_lexer": "ipython3",
   "version": "3.9.0"
  },
  "orig_nbformat": 4
 },
 "nbformat": 4,
 "nbformat_minor": 2
}
